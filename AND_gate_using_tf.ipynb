{
  "nbformat": 4,
  "nbformat_minor": 0,
  "metadata": {
    "colab": {
      "name": "AND gate using tf.ipynb",
      "provenance": [],
      "authorship_tag": "ABX9TyOPLK3icqPPkZTfQinCuyQ5",
      "include_colab_link": true
    },
    "kernelspec": {
      "name": "python3",
      "display_name": "Python 3"
    },
    "language_info": {
      "name": "python"
    }
  },
  "cells": [
    {
      "cell_type": "markdown",
      "metadata": {
        "id": "view-in-github",
        "colab_type": "text"
      },
      "source": [
        "<a href=\"https://colab.research.google.com/github/anusha0409/Deep-Learning-ai/blob/master/AND_gate_using_tf.ipynb\" target=\"_parent\"><img src=\"https://colab.research.google.com/assets/colab-badge.svg\" alt=\"Open In Colab\"/></a>"
      ]
    },
    {
      "cell_type": "code",
      "metadata": {
        "id": "zOnOYhlkVmGC"
      },
      "source": [
        "import tensorflow.compat.v1 as tf\n",
        "tf.disable_v2_behavior()\n"
      ],
      "execution_count": 5,
      "outputs": []
    },
    {
      "cell_type": "code",
      "metadata": {
        "colab": {
          "base_uri": "https://localhost:8080/"
        },
        "id": "4q9r2gZ3tuOj",
        "outputId": "af0f1f87-9173-46c3-f371-ad70ff951530"
      },
      "source": [
        "T, F =1. , -1.\n",
        "bias = 1.\n",
        "train_in =[\n",
        "           [T, T, bias],\n",
        "           [T, F, bias],\n",
        "           [F, T, bias],\n",
        "           [F, F, bias]\n",
        "\n",
        "]\n",
        "train_out =[\n",
        "            [T],\n",
        "            [F],\n",
        "            [F],\n",
        "            [F]\n",
        "]\n",
        "w = tf.Variable(tf.random_normal([3,1]))\n",
        "\n",
        "def step(x):\n",
        "  is_greater = tf.greater(x, 0)\n",
        "  as_float = tf.to_float(is_greater)\n",
        "  doubled = tf.multiply(as_float, 2)\n",
        "  return tf.subtract(doubled, 1)\n",
        "\n",
        "\n",
        "output= step(tf.matmul(train_in, w))\n",
        "error = tf.subtract(train_out, output)\n",
        "mse= tf.reduce_mean(tf.square(error))\n",
        "\n",
        "delta = tf.matmul(train_in, error, transpose_a = True)\n",
        "train= tf.assign(w, tf.add(w, delta))\n",
        "\n",
        "sess= tf.Session()\n",
        "sess.run(tf.initialize_all_variables())\n",
        "err, target = 1, 0\n",
        "\n",
        "epoch, max_epoch = 0, 10\n",
        "while err> target and epoch < max_epoch:\n",
        "  epoch+=1\n",
        "  err, _ = sess.run([mse, train])\n",
        "  print(epoch, err)\n"
      ],
      "execution_count": 7,
      "outputs": [
        {
          "output_type": "stream",
          "name": "stdout",
          "text": [
            "WARNING:tensorflow:From /usr/local/lib/python3.7/dist-packages/tensorflow/python/util/tf_should_use.py:247: initialize_all_variables (from tensorflow.python.ops.variables) is deprecated and will be removed after 2017-03-02.\n",
            "Instructions for updating:\n",
            "Use `tf.global_variables_initializer` instead.\n",
            "1 3.0\n",
            "2 0.0\n"
          ]
        }
      ]
    },
    {
      "cell_type": "code",
      "metadata": {
        "colab": {
          "base_uri": "https://localhost:8080/"
        },
        "id": "zqiUQK3ht6KB",
        "outputId": "fffa5fc6-6076-4f33-a152-077c85f77050"
      },
      "source": [
        ""
      ],
      "execution_count": 2,
      "outputs": [
        {
          "output_type": "stream",
          "name": "stdout",
          "text": [
            "WARNING:tensorflow:From /usr/local/lib/python3.7/dist-packages/tensorflow/python/compat/v2_compat.py:101: disable_resource_variables (from tensorflow.python.ops.variable_scope) is deprecated and will be removed in a future version.\n",
            "Instructions for updating:\n",
            "non-resource variables are not supported in the long term\n"
          ]
        }
      ]
    },
    {
      "cell_type": "code",
      "metadata": {
        "id": "1m9qi65QuZ0x"
      },
      "source": [
        ""
      ],
      "execution_count": 5,
      "outputs": []
    },
    {
      "cell_type": "code",
      "metadata": {
        "id": "SI-AgbvYdDkL"
      },
      "source": [
        ""
      ],
      "execution_count": null,
      "outputs": []
    },
    {
      "cell_type": "code",
      "metadata": {
        "id": "GTgRX5imvrZ4"
      },
      "source": [
        ""
      ],
      "execution_count": null,
      "outputs": []
    }
  ]
}